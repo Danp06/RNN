{
 "cells": [
  {
   "cell_type": "code",
   "execution_count": 2,
   "metadata": {
    "pycharm": {
     "name": "#%%\n"
    }
   },
   "outputs": [],
   "source": [
    "import io\n",
    "import sys\n",
    "PATH = 'C:/Users/danie/OneDrive - Universidad Tecnológica de Bolívar/U/6to Semestre/Inteligencia Artificial/3er Corte/PLN'\n",
    "DIR_DATA = '../Inteligencia Artificial/3er Corte/PLN/data/input/'\n",
    "sys.path.append(PATH) if PATH not in list(sys.path) else None\n",
    "import os\n",
    "import tensorflow as tf\n",
    "import pandas as pd\n",
    "import numpy as np\n",
    "import seaborn as sns\n",
    "from tqdm import tqdm\n",
    "import plotly.express as px\n",
    "import matplotlib.pyplot as plt\n",
    "from collections import Counter\n",
    "from sklearn import preprocessing\n",
    "\n",
    "from sklearn.pipeline import FeatureUnion\n",
    "from tensorflow import keras\n",
    "from keras.layers import Dense, Dropout, LSTM\n",
    "from keras.models import Sequential\n",
    "from sklearn.model_selection import RepeatedKFold\n",
    "from sklearn.preprocessing import LabelEncoder, StandardScaler\n",
    "\n",
    "\n",
    "from sklearn.metrics import plot_confusion_matrix\n",
    "from sklearn.feature_selection import SelectKBest, chi2, mutual_info_classif\n",
    "from sklearn.model_selection import StratifiedShuffleSplit, cross_val_score\n",
    "from imblearn.over_sampling import RandomOverSampler\n",
    "from sklearn.feature_extraction.text import CountVectorizer, TfidfVectorizer\n",
    "from sklearn.model_selection import train_test_split, cross_val_score, ShuffleSplit\n",
    "from sklearn.metrics import mean_squared_error, r2_score\n",
    "from sklearn.metrics import classification_report, confusion_matrix, recall_score, log_loss\n",
    "from sklearn.metrics import f1_score, accuracy_score, precision_score\n",
    "\n",
    "from logic.utils import Utils\n",
    "from logic.classifiers import Classifiers\n",
    "from logic.text_processing import TextProcessing\n",
    "from logic.lexical_vectorizer import LexicalVectorizer\n",
    "from root import DIR_RESULTS"
   ]
  },
  {
   "cell_type": "markdown",
   "metadata": {
    "pycharm": {
     "name": "#%% md\n"
    }
   },
   "source": [
    "# Variable initialization "
   ]
  },
  {
   "cell_type": "code",
   "execution_count": 22,
   "metadata": {
    "pycharm": {
     "name": "#%%\n"
    }
   },
   "outputs": [],
   "source": [
    "lang = 'es'\n",
    "iteration = 10\n",
    "fold = 10\n",
    "classifiers = Classifiers.dict_classifiers\n",
    "tp = TextProcessing(lang=lang)\n",
    "lv = LexicalVectorizer(lang=lang, text_processing=tp)\n",
    "ut = Utils(lang=lang, text_processing=tp)"
   ]
  },
  {
   "cell_type": "markdown",
   "metadata": {
    "pycharm": {
     "name": "#%% md\n"
    }
   },
   "source": [
    "# Import data"
   ]
  },
  {
   "cell_type": "code",
   "execution_count": 54,
   "metadata": {
    "pycharm": {
     "name": "#%%\n"
    }
   },
   "outputs": [
    {
     "name": "stdout",
     "output_type": "stream",
     "text": [
      "+ Import training...\n",
      "\t\t - Dataset size :(x: 5886 , y: 5886)\n",
      "+ Import test...\n",
      "\t\t - Dataset size :(x: 857 , y: 857)\n"
     ]
    }
   ],
   "source": [
    "print('+ Import training...')\n",
    "x, y = ut.get_data(file_name='tass2020_emotion_train')\n",
    "print('+ Import test...')\n",
    "x_eval, y_eval = ut.get_data(file_name='tass2020_emotion_dev')"
   ]
  },
  {
   "cell_type": "markdown",
   "metadata": {
    "pycharm": {
     "name": "#%% md\n"
    }
   },
   "source": [
    "# Feature extraction"
   ]
  },
  {
   "cell_type": "code",
   "execution_count": 55,
   "metadata": {
    "pycharm": {
     "name": "#%%\n"
    },
    "scrolled": true
   },
   "outputs": [
    {
     "name": "stdout",
     "output_type": "stream",
     "text": [
      "- train:\n",
      " [('anger ', 600), ('disgust ', 113), ('fear ', 67), ('joy ', 1270), ('others', 1), ('others ', 2888), ('sadness ', 706), ('surprise ', 241)]\n",
      "- test: \n",
      " [('anger ', 87), ('disgust ', 16), ('fear ', 10), ('joy ', 185), ('others ', 421), ('sadness ', 103), ('surprise ', 35)]\n"
     ]
    }
   ],
   "source": [
    "bow_vector = CountVectorizer(analyzer='word', ngram_range=(2, 2), min_df=10)\n",
    "preprocessor = FeatureUnion([('bow_vector', bow_vector), ('lex_vector', lv)])\n",
    "\n",
    "preprocessor.fit(x)\n",
    "preprocessor.fit(x_eval)\n",
    "\n",
    "x = preprocessor.transform(x)\n",
    "x_eval = preprocessor.transform(x_eval)\n",
    "\n",
    "print('- train:\\n', sorted(Counter(y).items()))\n",
    "print('- test: \\n', sorted(Counter(y_eval).items()))"
   ]
  },
  {
   "cell_type": "markdown",
   "metadata": {
    "pycharm": {
     "name": "#%% md\n"
    }
   },
   "source": [
    "# Over Sampling"
   ]
  },
  {
   "cell_type": "code",
   "execution_count": 56,
   "metadata": {
    "pycharm": {
     "name": "#%%\n"
    }
   },
   "outputs": [
    {
     "name": "stdout",
     "output_type": "stream",
     "text": [
      "- train:\n",
      " [('anger ', 2022), ('disgust ', 2022), ('fear ', 2022), ('joy ', 2022), ('others', 2022), ('others ', 2022), ('sadness ', 2022), ('surprise ', 2022)]\n",
      "- test:\n",
      " [('anger ', 866), ('disgust ', 866), ('fear ', 866), ('joy ', 866), ('others ', 866), ('sadness ', 866), ('surprise ', 866)]\n",
      "- test:\n",
      " [('anger ', 421), ('disgust ', 421), ('fear ', 421), ('joy ', 421), ('others ', 421), ('sadness ', 421), ('surprise ', 421)]\n"
     ]
    }
   ],
   "source": [
    "k_fold = ShuffleSplit(n_splits=fold, test_size=0.25, random_state=42)\n",
    "\n",
    "x_train, x_test, y_train, y_test = train_test_split(x, y, test_size=.3, random_state=42)\n",
    "ros_train = RandomOverSampler(random_state=1000)\n",
    "x_train, y_train = ros_train.fit_resample(x_train, y_train)\n",
    "x_test, y_test = ros_train.fit_resample(x_test, y_test)\n",
    "x_eval, y_eval = ros_train.fit_resample(x_eval, y_eval)\n",
    "print('- train:\\n', sorted(Counter(y_train).items()))\n",
    "print('- test:\\n', sorted(Counter(y_test).items()))\n",
    "print('- test:\\n', sorted(Counter(y_eval).items()))"
   ]
  },
  {
   "cell_type": "code",
   "execution_count": 57,
   "metadata": {
    "pycharm": {
     "name": "#%%\n"
    }
   },
   "outputs": [],
   "source": [
    "shape = x_train.shape[1:]\n",
    "\n",
    "scaler = StandardScaler(with_mean=False)\n",
    "x_train = scaler.fit_transform(x_train)\n",
    "x_test = scaler.transform(x_test)\n",
    "x_eval = scaler.transform(x_eval)"
   ]
  },
  {
   "cell_type": "code",
   "execution_count": 58,
   "metadata": {
    "pycharm": {
     "name": "#%%\n"
    }
   },
   "outputs": [],
   "source": [
    "lb = LabelEncoder()\n",
    "y_train = lb.fit_transform([i.rstrip() for i in y_train.to_list()])\n",
    "y_eval = lb.transform([i.rstrip() for i in y_eval.to_list()])\n",
    "y_test = lb.transform([i.rstrip() for i in y_test.to_list()])"
   ]
  },
  {
   "cell_type": "code",
   "execution_count": 59,
   "metadata": {
    "pycharm": {
     "name": "#%%\n"
    }
   },
   "outputs": [
    {
     "name": "stdout",
     "output_type": "stream",
     "text": [
      "(16176, 120)\n"
     ]
    },
    {
     "data": {
      "text/plain": [
       "(None, array([3, 5, 3, ..., 6, 6, 6], dtype=int64))"
      ]
     },
     "execution_count": 59,
     "metadata": {},
     "output_type": "execute_result"
    }
   ],
   "source": [
    "print(x_train.shape), y_train"
   ]
  },
  {
   "cell_type": "markdown",
   "metadata": {
    "pycharm": {
     "name": "#%% md\n"
    }
   },
   "source": [
    "# NN Architecture"
   ]
  },
  {
   "cell_type": "code",
   "execution_count": 61,
   "metadata": {
    "pycharm": {
     "name": "#%%\n"
    }
   },
   "outputs": [
    {
     "name": "stdout",
     "output_type": "stream",
     "text": [
      "Model: \"sequential\"\n",
      "_________________________________________________________________\n",
      "Layer (type)                 Output Shape              Param #   \n",
      "=================================================================\n",
      "dense (Dense)                (None, 21)                2541      \n",
      "_________________________________________________________________\n",
      "dense_1 (Dense)              (None, 14)                308       \n",
      "_________________________________________________________________\n",
      "dense_2 (Dense)              (None, 7)                 105       \n",
      "=================================================================\n",
      "Total params: 2,954\n",
      "Trainable params: 2,954\n",
      "Non-trainable params: 0\n",
      "_________________________________________________________________\n"
     ]
    }
   ],
   "source": [
    "keras.backend.clear_session()\n",
    "np.random.seed(42)\n",
    "tf.random.set_seed(42)\n",
    "MAX_FEATURES = 200000 # number of words in the vocab\n",
    "\n",
    "model = keras.models.Sequential([keras.layers.Input(shape=shape),\n",
    "                                 keras.layers.Dense(21, activation=\"softmax\"),\n",
    "                                 keras.layers.Dense(14, activation=\"relu\"),\n",
    "                                 keras.layers.Dense(7, activation=\"softmax\")\n",
    "                                ])\n",
    "model.compile(loss=\"sparse_categorical_crossentropy\", optimizer=\"sgd\", metrics=[\"accuracy\"])\n",
    "model.summary()"
   ]
  },
  {
   "cell_type": "markdown",
   "metadata": {
    "pycharm": {
     "name": "#%% md\n"
    }
   },
   "source": [
    "# Training"
   ]
  },
  {
   "cell_type": "code",
   "execution_count": 62,
   "metadata": {
    "pycharm": {
     "name": "#%%\n"
    }
   },
   "outputs": [
    {
     "name": "stderr",
     "output_type": "stream",
     "text": [
      "k-fold: 100%|██████████| 30/30 [07:01<00:00, 14.05s/it]\n"
     ]
    }
   ],
   "source": [
    "cv = RepeatedKFold(n_splits=10, n_repeats=3, random_state=1)\n",
    "accuracies_scores = []\n",
    "for train_index, test_index in tqdm(cv.split(x_train, y_train), total=cv.get_n_splits(), desc=\"k-fold\"):\n",
    "    data_train = x_train[train_index]\n",
    "    target_train = y_train[train_index]\n",
    "\n",
    "    data_test = x_train[test_index]\n",
    "    target_test = y_train[test_index]\n",
    "\n",
    "    history = model.fit(data_train, target_train, verbose=0, epochs=20)\n",
    "    predict = model.predict(data_test)"
   ]
  },
  {
   "cell_type": "markdown",
   "metadata": {
    "pycharm": {
     "name": "#%% md\n"
    }
   },
   "source": [
    "# Result"
   ]
  },
  {
   "cell_type": "code",
   "execution_count": 63,
   "metadata": {
    "pycharm": {
     "name": "#%%\n"
    },
    "scrolled": true
   },
   "outputs": [
    {
     "data": {
      "image/png": "[encoded data removed]",
      "text/plain": [
       "<Figure size 864x360 with 1 Axes>"
      ]
     },
     "metadata": {
      "needs_background": "light"
     },
     "output_type": "display_data"
    }
   ],
   "source": [
    "pd.DataFrame(history.history).plot(figsize=(12, 5))\n",
    "plt.grid(True)\n",
    "plt.gca().set_ylim(0, 2)\n",
    "plt.show()"
   ]
  },
  {
   "cell_type": "code",
   "execution_count": 64,
   "metadata": {
    "pycharm": {
     "name": "#%%\n"
    },
    "scrolled": true
   },
   "outputs": [
    {
     "name": "stdout",
     "output_type": "stream",
     "text": [
      "190/190 [==============================] - 0s 1ms/step - loss: 6.6988 - accuracy: 0.2402\n",
      "Eval Score: 6.6988115310668945\n",
      "Eval Accuracy: 0.2401847541332245\n"
     ]
    },
    {
     "name": "stderr",
     "output_type": "stream",
     "text": [
      "6062it [01:52, 53.95it/s] "
     ]
    },
    {
     "name": "stdout",
     "output_type": "stream",
     "text": [
      "Accuracy: 0.24\n",
      "              precision    recall  f1-score   support\n",
      "\n",
      "           0       0.20      0.19      0.19       866\n",
      "           1       0.28      0.23      0.25       866\n",
      "           2       0.20      0.13      0.15       866\n",
      "           3       0.28      0.35      0.31       866\n",
      "           4       0.22      0.27      0.25       866\n",
      "           5       0.28      0.33      0.30       866\n",
      "           6       0.21      0.19      0.20       866\n",
      "\n",
      "    accuracy                           0.24      6062\n",
      "   macro avg       0.24      0.24      0.24      6062\n",
      "weighted avg       0.24      0.24      0.24      6062\n",
      "\n"
     ]
    },
    {
     "name": "stderr",
     "output_type": "stream",
     "text": [
      "\n"
     ]
    }
   ],
   "source": [
    "score = model.evaluate(x_test, y_test, verbose=1)\n",
    "\n",
    "print(\"Eval Score:\", score[0])\n",
    "print(\"Eval Accuracy:\", score[1])\n",
    "\n",
    "y_predict = []\n",
    "for features in tqdm(x_test):\n",
    "    features = features.reshape(1, -1)\n",
    "    value_prob = model.predict(features)\n",
    "    value = np.argmax(value_prob, axis=1)\n",
    "    y_predict.append(value)\n",
    "\n",
    "accuracy_predict = accuracy_score(y_test, y_predict)\n",
    "print('Accuracy: {0}'.format(round(np.mean(accuracy_predict), 2)))\n",
    "print(classification_report(y_test, y_predict))"
   ]
  },
  {
   "cell_type": "code",
   "execution_count": null,
   "metadata": {
    "pycharm": {
     "name": "#%%\n"
    }
   },
   "outputs": [],
   "source": []
  }
 ],
 "metadata": {
  "kernelspec": {
   "display_name": "Python 3 (ipykernel)",
   "language": "python",
   "name": "python3"
  },
  "language_info": {
   "codemirror_mode": {
    "name": "ipython",
    "version": 3
   },
   "file_extension": ".py",
   "mimetype": "text/x-python",
   "name": "python",
   "nbconvert_exporter": "python",
   "pygments_lexer": "ipython3",
   "version": "3.8.13"
  }
 },
 "nbformat": 4,
 "nbformat_minor": 4
}
